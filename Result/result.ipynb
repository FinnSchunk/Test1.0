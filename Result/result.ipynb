{
 "cells": [
  {
   "cell_type": "markdown",
   "metadata": {},
   "source": [
    "Documenting and Unit Testing Python Code\n",
    "========================================\n",
    "\n",
    "This Jupyter Notebook will introduce you to the notion of unit testing\n",
    "and proper code documentation.\n",
    "\n",
    "It will also serve as an introduction to Jupyter Notebooks, the learning\n",
    "tool you are using right now.\n",
    "\n",
    "What is a Jupyter Notebook?\n",
    "---------------------------\n",
    "\n",
    "This thing you are using right now is called a Jupyter Notebook. It is a\n",
    "web page consisting of blocks of text mixed with blocks of Python code.\n",
    "\n",
    "The best thing about Jupyter Notebooks is that they are interactive; you\n",
    "can select any code block, edit it, and then hit the `CONTROL + ENTER`\n",
    "key combination to execute it. That is, while holding the `CONTROL` key\n",
    "with your left hand, you can hit the `ENTER` key with your right hand.\n",
    "This is also called a “keyboard shortcut”.\n",
    "\n",
    "Try executing the code below: select the block and hit the\n",
    "`CONTROL + ENTER` keyboard shortcut:"
   ]
  },
  {
   "cell_type": "code",
   "execution_count": 208,
   "metadata": {},
   "outputs": [
    {
     "name": "stdout",
     "output_type": "stream",
     "text": [
      "Hello from a Jupyter Noootebook!\n"
     ]
    }
   ],
   "source": [
    "print('Hello from a Jupyter Noootebook!')"
   ]
  },
  {
   "cell_type": "markdown",
   "metadata": {},
   "source": [
    "That’s it! The code has been executed, and the text appears right below.\n",
    "\n",
    "### Saving the State of a Notebook\n",
    "\n",
    "You can save the current state of your Jupyter Notebook and continue\n",
    "using it later. For that, select the `File` menu above, and select the\n",
    "`Save As…` entry. Enter a name and continue your work later if you want.\n",
    "\n",
    "### Learning more about Jupyter Notebooks\n",
    "\n",
    "Jupyter Notebooks have lots of features and possibilities. They can\n",
    "display graphs, images, animations, and much more. To learn more about\n",
    "them, the official website of Jupyter Notebooks is https://jupyter.org/.\n",
    "\n",
    "How to Document Python Code?\n",
    "----------------------------\n",
    "\n",
    "Adding comments to your source code is always a good idea. It provides\n",
    "information to other members of the team about what your code does, the\n",
    "requirements to run it, and special conditions that might interfere with\n",
    "its functionality in particular environments.\n",
    "\n",
    "There are two types of code comments in Python: the first kind is the\n",
    "more common, prefixed with the `#` character:"
   ]
  },
  {
   "cell_type": "code",
   "execution_count": 211,
   "metadata": {},
   "outputs": [],
   "source": [
    "def say_blah():\n",
    "    # This is a vry short function that says \"blah\"\n",
    "    return 'bah'"
   ]
  },
  {
   "cell_type": "markdown",
   "metadata": {},
   "source": [
    "The second type of code comments in Python is much more useful: it is\n",
    "called a **docstring** and has a special status in the language:"
   ]
  },
  {
   "cell_type": "code",
   "execution_count": 212,
   "metadata": {},
   "outputs": [],
   "source": [
    "def useful_function():\n",
    "    \"\"\"\n",
    "    This docstring explains what this function does with great detail.\n",
    "    \"\"\"\n",
    "    return 'blah'"
   ]
  },
  {
   "cell_type": "markdown",
   "metadata": {},
   "source": [
    "As shown above, docstrings are separated using three double quotes:\n",
    "`\"\"\"`. They must begin with an uppercase letter, and they must end with\n",
    "a period. Pay attention to this!\n",
    "\n",
    "The advantage of docstrings over other types of comments is that they\n",
    "can be extracted, and they can be used to generate HTML websites or PDF\n",
    "documents. One can then distribute those documents to other people, and\n",
    "they can learn how to use your code with it.\n",
    "\n",
    "One can extract docstrings very easily using the `help()` Python\n",
    "function:"
   ]
  },
  {
   "cell_type": "code",
   "execution_count": 213,
   "metadata": {
    "scrolled": false
   },
   "outputs": [
    {
     "name": "stdout",
     "output_type": "stream",
     "text": [
      "Help on function useful_function in module __main__:\n",
      "\n",
      "useful_function()\n",
      "    This docstring explains what this function does with great detail.\n",
      "\n"
     ]
    }
   ],
   "source": [
    "help(useful_function)"
   ]
  },
  {
   "cell_type": "markdown",
   "metadata": {},
   "source": [
    "Select the code block above and hit the `CONTROL + ENTER` keyboard\n",
    "shortcut to see what happens. You will see the `docstring` from\n",
    "`useful_function()` being shown as the output of the `help()` function.\n",
    "\n",
    "Try changing the docstring in `useful_function()` and remember to hit\n",
    "`CONTROL + ENTER` again. Then re-execute the line asking for help. You\n",
    "will see how the new docstring appears in place of the old one.\n",
    "\n",
    "To learn more about docstrings in Python, check this page:\n",
    "https://www.askpython.com/python/python-docstring.\n",
    "\n",
    "What is a Unit Test?\n",
    "--------------------\n",
    "\n",
    "In Python, a **Unit Test** is a Python function that checks whether\n",
    "another function does exactly what it is meant to do. A function, in\n",
    "this sense, is a “unit of code”, hence the name, “unit test.”\n",
    "\n",
    "By the way, unit tests are available to all programming languages, not\n",
    "only in Python.\n",
    "\n",
    "Why are Unit Tests useful? Because they can be executed over and over\n",
    "again by a computer, and if they fail, we can be alerted automatically.\n",
    "This means that we can be sure that our software behaves the way it is\n",
    "intended to behave **at all times.**\n",
    "\n",
    "Some projects have tens, hundreds, and sometimes even **thousands** of\n",
    "automated tests running every hour. This makes sure that nobody adds a\n",
    "bug to the existing codebase when they modify a program.\n",
    "\n",
    "As a rule of thumb, the more unit tests your project has, the better.\n",
    "\n",
    "### Unit Test Example\n",
    "\n",
    "Here’s a (quite trivial) function that adds two numbers and returns the\n",
    "result. Click on the code block below, and remove the comment in front\n",
    "of the call to the `add()` function with the parameters 45 and 63. The\n",
    "result, as expected, should be 108.\n",
    "\n",
    "To execute the code, just click on it, remove the comment, and hit\n",
    "`CONTROL + ENTER` in your keyboard. That will execute the code and show\n",
    "the result right below."
   ]
  },
  {
   "cell_type": "code",
   "execution_count": 214,
   "metadata": {},
   "outputs": [],
   "source": [
    "def add(a, b):\n",
    "    return a + b\n",
    "\n",
    "# add(45, 63)"
   ]
  },
  {
   "cell_type": "markdown",
   "metadata": {},
   "source": [
    "How can we make sure that this function does what is expected of it? We\n",
    "will use a unit test for that.\n",
    "\n",
    "### Unit Tests with Doctest\n",
    "\n",
    "In Python there are at least two ways to define a unit test. We are\n",
    "going to use the simplest of all, using what is called “doctests”. A\n",
    "“doctest” is a test inside the “docstring” of our function.\n",
    "\n",
    "To learn more about doctests, check the official documentation:\n",
    "https://docs.python.org/2/library/doctest.html\n",
    "\n",
    "### Adding Doctests\n",
    "\n",
    "Creating a doctest is very simple; **only two steps are required.**\n",
    "\n",
    "**First** we must describe a test in the docstring; in this case, we add\n",
    "45 and 63, and we expect 108 as a result. You can see that the test\n",
    "itself is prefixed with `>>>`:"
   ]
  },
  {
   "cell_type": "code",
   "execution_count": null,
   "metadata": {},
   "outputs": [],
   "source": [
    "def add(a, b):\n",
    "    '''\n",
    "    This function adds two numbers and returns the result.\n",
    "    >>> add(45, 63)\n",
    "    108\n",
    "    '''\n",
    "    return a + b"
   ]
  },
  {
   "cell_type": "markdown",
   "metadata": {},
   "source": [
    "**Second** we can execute all the unit tests in this page using the code\n",
    "below; select the code block, hit `CONTROL + ENTER` once again, and look\n",
    "at what happens."
   ]
  },
  {
   "cell_type": "code",
   "execution_count": 218,
   "metadata": {},
   "outputs": [
    {
     "name": "stdout",
     "output_type": "stream",
     "text": [
      "Trying:\n",
      "    average([ 87987, 321, 6857, 21.15, 798, -42, 54363, 159 ])\n",
      "Expecting:\n",
      "    18808.01875\n",
      "ok\n",
      "4 items had no tests:\n",
      "    __main__\n",
      "    __main__.add\n",
      "    __main__.say_blah\n",
      "    __main__.useful_function\n",
      "1 items passed all tests:\n",
      "   1 tests in __main__.average\n",
      "1 tests in 5 items.\n",
      "1 passed and 0 failed.\n",
      "Test passed.\n"
     ]
    },
    {
     "data": {
      "text/plain": [
       "TestResults(failed=0, attempted=1)"
      ]
     },
     "execution_count": 218,
     "metadata": {},
     "output_type": "execute_result"
    }
   ],
   "source": [
    "import doctest\n",
    "doctest.testmod(verbose=True)"
   ]
  },
  {
   "cell_type": "markdown",
   "metadata": {},
   "source": [
    "You should see an output that looks (more or less) like this at the top:\n",
    "\n",
    "    Trying:\n",
    "        add(45, 63)\n",
    "    Expecting:\n",
    "        108\n",
    "    ok\n",
    "\n",
    "This short text “ok” indicates that the test has passed. The function\n",
    "does what it is expected!\n",
    "\n",
    "### Failing Test\n",
    "\n",
    "As you can see, there is one test passing (that is, it returns the\n",
    "expected value of 108) and there is another failing (that is, not\n",
    "returning the expected value.) The failing test indicates that the\n",
    "function has a bug. The function in question is called `add_buggy()` and\n",
    "is right here:"
   ]
  },
  {
   "cell_type": "code",
   "execution_count": null,
   "metadata": {},
   "outputs": [],
   "source": [
    "def add_buggy(a, b):\n",
    "    '''\n",
    "    This function adds two numbers and returns the result.\n",
    "    >>> add_buggy(45, 63)\n",
    "    108\n",
    "    '''\n",
    "    return a * b"
   ]
  },
  {
   "cell_type": "markdown",
   "metadata": {},
   "source": [
    "This is how a failing test appears: you can see the line of code\n",
    "concerned by the failure, and the condition that was not fulfilled; the\n",
    "expected value was 108, yet the result was 2835.\n",
    "\n",
    "    **********************************************************************\n",
    "    File \"__main__\", line 4, in __main__.add_buggy\n",
    "    Failed example:\n",
    "        add_buggy(45, 63)\n",
    "    Expected:\n",
    "        108\n",
    "    Got:\n",
    "        2835\n",
    "    3 items had no tests:\n",
    "        __main__\n",
    "        __main__.say_blah\n",
    "        __main__.some_function\n",
    "    1 items passed all tests:\n",
    "       1 tests in __main__.add\n",
    "    **********************************************************************\n",
    "\n",
    "Can you spot the bug in the `add_buggy()` function? Solve the bug (or\n",
    "change the test) and run again until all the tests pass."
   ]
  },
  {
   "cell_type": "code",
   "execution_count": null,
   "metadata": {},
   "outputs": [],
   "source": [
    "doctest.testmod(verbose=True)"
   ]
  },
  {
   "cell_type": "markdown",
   "metadata": {},
   "source": [
    "Exercise: Writing your Own Unit Test\n",
    "------------------------------------\n",
    "\n",
    "### Objectives\n",
    "\n",
    "This exercise will test your current knowledge of Python, and you will\n",
    "apply what you just learnt about docstrings and doctests.\n",
    "\n",
    "When the code in the Notebook works, you will export it with the results\n",
    "of the execution, and this will be stored inside a GitLab project.\n",
    "\n",
    "### Steps\n",
    "\n",
    "These are the steps of the exercise:\n",
    "\n",
    "1. there’s an incomplete function called “average()” that\n",
    "    calculates the average of a list of values.\n",
    "2.  Read the docstring that clearly explains what the function does,\n",
    "    including the doctest entries.\n",
    "3.  Write the code of the `average` fun  Belowction so that all tests pass."
   ]
  },
  {
   "cell_type": "code",
   "execution_count": 219,
   "metadata": {},
   "outputs": [
    {
     "name": "stdout",
     "output_type": "stream",
     "text": [
      "Result: 18808.018750\n",
      "Trying:\n",
      "    average([ 87987, 321, 6857, 21.15, 798, -42, 54363, 159 ])\n",
      "Expecting:\n",
      "    18808.01875\n",
      "ok\n",
      "4 items had no tests:\n",
      "    __main__\n",
      "    __main__.add\n",
      "    __main__.say_blah\n",
      "    __main__.useful_function\n",
      "1 items passed all tests:\n",
      "   1 tests in __main__.average\n",
      "1 tests in 5 items.\n",
      "1 passed and 0 failed.\n",
      "Test passed.\n"
     ]
    },
    {
     "data": {
      "text/plain": [
       "TestResults(failed=0, attempted=1)"
      ]
     },
     "execution_count": 219,
     "metadata": {},
     "output_type": "execute_result"
    }
   ],
   "source": [
    "def average(list):\n",
    "    \"\"\"\n",
    "    This function calculates the average of a list of values passed as parameter.\n",
    "    >>> average([ 87987, 321, 6857, 21.15, 798, -42, 54363, 159 ])\n",
    "    18808.01875\n",
    "    \"\"\"\n",
    "    result = 0\n",
    "    for factor in list:\n",
    "        result = factor + result\n",
    "    return result / len(list)\n",
    "\n",
    "\n",
    "values = [ 87987, 321, 6857, 21.15, 798, -42, 54363, 159 ]\n",
    "result = average(values)\n",
    "print(\"Result: %f\" % result)\n",
    "doctest.testmod(verbose=True)"
   ]
  },
  {
   "cell_type": "markdown",
   "metadata": {},
   "source": [
    "**Very important:**\n",
    "\n",
    "-   The exercise is not complete until all tests pass!\n",
    "-   You cannot modify the test! You can only modify the code so that the\n",
    "    test passes.\n",
    "\n",
    "Expected Result\n",
    "---------------\n",
    "\n",
    "This exercise will be complete when the following text appears at the\n",
    "bottom when executing the code below:"
   ]
  },
  {
   "cell_type": "code",
   "execution_count": null,
   "metadata": {},
   "outputs": [],
   "source": [
    "doctest.testmod(verbose=True)"
   ]
  },
  {
   "cell_type": "markdown",
   "metadata": {},
   "source": [
    "This is the expected result; all test passing!\n",
    "\n",
    "    TestResults(failed=0, attempted=3)\n",
    "\n",
    "Storing the Export of this Notebook in a GitLab Project\n",
    "-------------------------------------------------------\n",
    "\n",
    "1.  Once the code above runs, and all tests pass (that is, there are no\n",
    "    failures) save your Jupyter Notebook with the name “result”:\n",
    "    -   Select the `File` menu and select `Save As…` and then enter the\n",
    "        name `result`.\n",
    "2.  Export your Jupyter Notebook as notebook:\n",
    "    -   Select the `File` menu and select `Download as` and then\n",
    "        `Notebook (.ipynb)`\n",
    "3.  Export your Jupyter Notebook as PDF:\n",
    "    -   Select the `File` menu and select `Download as` and then\n",
    "        `PDF via LaTeX (.pdf)`.\n",
    "    -   After downloading it, make sure the PDF contains all the\n",
    "        solutions to your exercices. In particular, all tests must pass,\n",
    "        that means that the function must correctly calculate all\n",
    "        averages specified in the test.\n",
    "4.  Create a folder in your computer and store the “result.pdf” and\n",
    "    “result.ipynb” files there.\n",
    "5.  Initialize a Git repository in the folder.\n",
    "6.  Add all files and commit your changes to the repository.\n",
    "7.  Create a new GitLab project and copy the command to add a remote to\n",
    "    local repository. Use that to setup this GitLab repository as the\n",
    "    “remote” of your local Git repository.\n",
    "8.  Push your local Git repository to GitLab.\n",
    "9.  Send the URL of the GitLab repository for evaluation via e-mail.\n",
    "\n",
    "Summary\n",
    "-------\n",
    "\n",
    "These are the main elements of knowledge to retain from this exercise:\n",
    "\n",
    "-   A Jupyter Notebook is a special web page that mixes text with\n",
    "    interactive code.\n",
    "-   A `docstring` is a special type of comment that provides\n",
    "    documentation of a function or other forms of Python code. It can be\n",
    "    extracted into HTML or PDF and also with the `help()` function.\n",
    "-   A Unit Test is a function that checks if the output of another\n",
    "    function conforms to the expected value.\n",
    "-   A doctest is a special unit test written directly inside the\n",
    "    docstring."
   ]
  }
 ],
 "metadata": {
  "kernelspec": {
   "display_name": "Python 3",
   "language": "python",
   "name": "python3"
  },
  "language_info": {
   "codemirror_mode": {
    "name": "ipython",
    "version": 3
   },
   "file_extension": ".py",
   "mimetype": "text/x-python",
   "name": "python",
   "nbconvert_exporter": "python",
   "pygments_lexer": "ipython3",
   "version": "3.8.5"
  }
 },
 "nbformat": 4,
 "nbformat_minor": 5
}
